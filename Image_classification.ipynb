{
 "cells": [
  {
   "cell_type": "markdown",
   "id": "c7fedd9d",
   "metadata": {},
   "source": [
    "# Image Classification Using CNN"
   ]
  },
  {
   "cell_type": "code",
   "execution_count": 1,
   "id": "5ba1089a",
   "metadata": {},
   "outputs": [],
   "source": [
    "import tensorflow as tf\n",
    "from tensorflow.keras import datasets, layers, models\n",
    "import matplotlib.pyplot as plt\n",
    "import numpy as np"
   ]
  },
  {
   "cell_type": "code",
   "execution_count": 2,
   "id": "d917f36b",
   "metadata": {},
   "outputs": [
    {
     "name": "stdout",
     "output_type": "stream",
     "text": [
      "(50000, 32, 32, 3)\n",
      "(10000, 32, 32, 3)\n"
     ]
    }
   ],
   "source": [
    "(X_train, Y_train), (X_test,Y_test) = datasets.cifar10.load_data()\n",
    "print(X_train.shape)\n",
    "print(X_test.shape)"
   ]
  },
  {
   "cell_type": "code",
   "execution_count": 3,
   "id": "5bc0b337",
   "metadata": {},
   "outputs": [
    {
     "data": {
      "text/plain": [
       "array([[6],\n",
       "       [9],\n",
       "       [9],\n",
       "       [4],\n",
       "       [1],\n",
       "       [1],\n",
       "       [2]], dtype=uint8)"
      ]
     },
     "execution_count": 3,
     "metadata": {},
     "output_type": "execute_result"
    }
   ],
   "source": [
    "Y_train[:7]"
   ]
  },
  {
   "cell_type": "code",
   "execution_count": 4,
   "id": "2a8083a3",
   "metadata": {},
   "outputs": [],
   "source": [
    "### Need to reshape Y_train & Y_test\n",
    "Y_train = Y_train.reshape(-1,)\n",
    "Y_test = Y_test.reshape(-1,)"
   ]
  },
  {
   "cell_type": "code",
   "execution_count": 5,
   "id": "ce1157e5",
   "metadata": {},
   "outputs": [],
   "source": [
    "classes = [\"airplane\",\"automobile\",\"bird\",\"cat\",\"deer\",\"dog\",\"frog\",\"horse\",\"ship\",\"truck\"]"
   ]
  },
  {
   "cell_type": "code",
   "execution_count": 6,
   "id": "e6a2cb0a",
   "metadata": {},
   "outputs": [],
   "source": [
    "def sample(X, y, index):\n",
    "    plt.figure(figsize = (15,2))\n",
    "    plt.imshow(X[index])\n",
    "    plt.xlabel(classes[y[index]])"
   ]
  },
  {
   "cell_type": "code",
   "execution_count": 8,
   "id": "6d2d4550",
   "metadata": {},
   "outputs": [
    {
     "data": {
      "image/png": "[encoded data removed]",
      "text/plain": [
       "<Figure size 1080x144 with 1 Axes>"
      ]
     },
     "metadata": {
      "needs_background": "light"
     },
     "output_type": "display_data"
    }
   ],
   "source": [
    "sample(X_train, Y_train, 7)"
   ]
  },
  {
   "cell_type": "code",
   "execution_count": 9,
   "id": "87c75add",
   "metadata": {},
   "outputs": [],
   "source": [
    "### Now let us normalize the images\n",
    "X_train = X_train / 255.0\n",
    "X_test = X_test / 255.0"
   ]
  },
  {
   "cell_type": "code",
   "execution_count": 10,
   "id": "1b03b713",
   "metadata": {},
   "outputs": [],
   "source": [
    "### Build CNN to train images\n",
    "cnn = models.Sequential([\n",
    "    layers.Conv2D(filters=32, kernel_size=(3, 3), activation='relu', input_shape=(32, 32, 3)),\n",
    "    layers.MaxPooling2D((2, 2)),\n",
    "    \n",
    "    layers.Conv2D(filters=64, kernel_size=(3, 3), activation='relu'),\n",
    "    layers.MaxPooling2D((2, 2)),\n",
    "    \n",
    "    layers.Flatten(),\n",
    "    layers.Dense(64, activation='relu'),\n",
    "    layers.Dense(10, activation='softmax')\n",
    "])"
   ]
  },
  {
   "cell_type": "code",
   "execution_count": 11,
   "id": "c78aab26",
   "metadata": {},
   "outputs": [],
   "source": [
    "cnn.compile(optimizer='adam',\n",
    "              loss='sparse_categorical_crossentropy',\n",
    "              metrics=['accuracy'])"
   ]
  },
  {
   "cell_type": "code",
   "execution_count": 13,
   "id": "28900b72",
   "metadata": {
    "scrolled": true
   },
   "outputs": [
    {
     "name": "stdout",
     "output_type": "stream",
     "text": [
      "Epoch 1/15\n",
      "1563/1563 [==============================] - 69s 44ms/step - loss: 1.5192 - accuracy: 0.4526\n",
      "Epoch 2/15\n",
      "1563/1563 [==============================] - 60s 38ms/step - loss: 1.1610 - accuracy: 0.5922\n",
      "Epoch 3/15\n",
      "1563/1563 [==============================] - 59s 38ms/step - loss: 1.0256 - accuracy: 0.6441\n",
      "Epoch 4/15\n",
      "1563/1563 [==============================] - 53s 34ms/step - loss: 0.9473 - accuracy: 0.6722\n",
      "Epoch 5/15\n",
      "1563/1563 [==============================] - 52s 33ms/step - loss: 0.8879 - accuracy: 0.6911\n",
      "Epoch 6/15\n",
      "1563/1563 [==============================] - 50s 32ms/step - loss: 0.8330 - accuracy: 0.7120\n",
      "Epoch 7/15\n",
      "1563/1563 [==============================] - 53s 34ms/step - loss: 0.7893 - accuracy: 0.7278\n",
      "Epoch 8/15\n",
      "1563/1563 [==============================] - 51s 33ms/step - loss: 0.7460 - accuracy: 0.7419\n",
      "Epoch 9/15\n",
      "1563/1563 [==============================] - 51s 33ms/step - loss: 0.7096 - accuracy: 0.7537\n",
      "Epoch 10/15\n",
      "1563/1563 [==============================] - 52s 33ms/step - loss: 0.6770 - accuracy: 0.7639\n",
      "Epoch 11/15\n",
      "1563/1563 [==============================] - 51s 33ms/step - loss: 0.6497 - accuracy: 0.7738\n",
      "Epoch 12/15\n",
      "1563/1563 [==============================] - 52s 33ms/step - loss: 0.6191 - accuracy: 0.7870\n",
      "Epoch 13/15\n",
      "1563/1563 [==============================] - 53s 34ms/step - loss: 0.5907 - accuracy: 0.7940\n",
      "Epoch 14/15\n",
      "1563/1563 [==============================] - 52s 33ms/step - loss: 0.5603 - accuracy: 0.8041\n",
      "Epoch 15/15\n",
      "1563/1563 [==============================] - 51s 33ms/step - loss: 0.5363 - accuracy: 0.8129\n"
     ]
    },
    {
     "data": {
      "text/plain": [
       "<tensorflow.python.keras.callbacks.History at 0x1a66051dbe0>"
      ]
     },
     "execution_count": 13,
     "metadata": {},
     "output_type": "execute_result"
    }
   ],
   "source": [
    "cnn.fit(X_train, Y_train, epochs=15)"
   ]
  },
  {
   "cell_type": "code",
   "execution_count": 14,
   "id": "f8fbff69",
   "metadata": {},
   "outputs": [
    {
     "name": "stdout",
     "output_type": "stream",
     "text": [
      "313/313 [==============================] - 3s 11ms/step - loss: 0.9909 - accuracy: 0.6959\n"
     ]
    },
    {
     "data": {
      "text/plain": [
       "[0.9909371137619019, 0.695900022983551]"
      ]
     },
     "execution_count": 14,
     "metadata": {},
     "output_type": "execute_result"
    }
   ],
   "source": [
    "cnn.evaluate(X_test,Y_test)"
   ]
  },
  {
   "cell_type": "code",
   "execution_count": 15,
   "id": "6b64f4ad",
   "metadata": {},
   "outputs": [],
   "source": [
    "y_pred = cnn.predict(X_test)\n",
    "y_classes = [np.argmax(element) for element in y_pred]"
   ]
  },
  {
   "cell_type": "code",
   "execution_count": 21,
   "id": "e12ed784",
   "metadata": {},
   "outputs": [
    {
     "data": {
      "image/png": "[encoded data removed]",
      "text/plain": [
       "<Figure size 1080x144 with 1 Axes>"
      ]
     },
     "metadata": {
      "needs_background": "light"
     },
     "output_type": "display_data"
    }
   ],
   "source": [
    "sample(X_test, Y_test,1)"
   ]
  },
  {
   "cell_type": "code",
   "execution_count": 22,
   "id": "17897bba",
   "metadata": {},
   "outputs": [
    {
     "data": {
      "text/plain": [
       "'ship'"
      ]
     },
     "execution_count": 22,
     "metadata": {},
     "output_type": "execute_result"
    }
   ],
   "source": [
    "classes[y_classes[1]]"
   ]
  },
  {
   "cell_type": "code",
   "execution_count": null,
   "id": "f8f55567",
   "metadata": {},
   "outputs": [],
   "source": []
  }
 ],
 "metadata": {
  "kernelspec": {
   "display_name": "Python 3",
   "language": "python",
   "name": "python3"
  },
  "language_info": {
   "codemirror_mode": {
    "name": "ipython",
    "version": 3
   },
   "file_extension": ".py",
   "mimetype": "text/x-python",
   "name": "python",
   "nbconvert_exporter": "python",
   "pygments_lexer": "ipython3",
   "version": "3.8.8"
  }
 },
 "nbformat": 4,
 "nbformat_minor": 5
}
